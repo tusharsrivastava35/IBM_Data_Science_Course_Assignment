{
 "cells": [
  {
   "cell_type": "markdown",
   "id": "25c4a673-2efa-47e0-b5c0-256426a10436",
   "metadata": {},
   "source": [
    "**Data Science Tools and Ecosystem**"
   ]
  },
  {
   "cell_type": "markdown",
   "id": "3e91d023-8554-4f53-a949-10b7236e5b96",
   "metadata": {},
   "source": [
    "In this notebook, Data Science Tools and Ecosystem are summarized"
   ]
  },
  {
   "cell_type": "markdown",
   "id": "dd37704c-6aee-4c84-aa1f-293476389750",
   "metadata": {},
   "source": [
    "**Objectives**\n",
    "- Popular languages for Data science are Python,R,SQL,Java\n",
    "- Platforms like **Github** are used for Version Control\n",
    "- SQL is very important for Database management "
   ]
  },
  {
   "cell_type": "markdown",
   "id": "2099c0b0-c1cd-4dc5-8170-a003b26fa030",
   "metadata": {},
   "source": [
    "Some of the popular languages that Data Scientists use are:\n",
    "1.Pyhton\n",
    "2.R\n",
    "3.SQL\n",
    "4.Julia"
   ]
  },
  {
   "cell_type": "markdown",
   "id": "bc5b65c6-c389-4276-84cd-31ddd54f2f93",
   "metadata": {},
   "source": [
    "Some of the commonly used libraries used by Data Scientists include:\n",
    "1.Numpy\n",
    "2.Pandas\n",
    "3.Scikit Learn\n",
    "4.Scipy"
   ]
  },
  {
   "cell_type": "markdown",
   "id": "90fe4d45-b855-48b1-a7c3-33f1871d4cf2",
   "metadata": {},
   "source": [
    "Data Science Tools\n",
    "\n",
    "1.Jupyter Notebook\n",
    "2.RStudio\n",
    "3.Visual Studio Code"
   ]
  },
  {
   "cell_type": "markdown",
   "id": "c2a24ce7-9aa3-48c6-83f2-0c70c179ec72",
   "metadata": {},
   "source": [
    "Below are a few examples of evaluating arithmetic expressions in Python"
   ]
  },
  {
   "cell_type": "code",
   "execution_count": 33,
   "id": "38910324-9dda-428f-999a-77e54b0c6fa2",
   "metadata": {},
   "outputs": [
    {
     "name": "stdout",
     "output_type": "stream",
     "text": [
      "17\n"
     ]
    }
   ],
   "source": [
    "print((3*4)+5)\n",
    "#This a simple arithmetic expression to mutiply then add integers"
   ]
  },
  {
   "cell_type": "code",
   "execution_count": 30,
   "id": "8244b439-238c-492b-992e-770f955a63f2",
   "metadata": {},
   "outputs": [
    {
     "name": "stdout",
     "output_type": "stream",
     "text": [
      "3.3\n"
     ]
    }
   ],
   "source": [
    "h=round((200/60),1)\n",
    "print(h)\n",
    "#This will convert 200 minutes to hours by diving by 60"
   ]
  },
  {
   "cell_type": "markdown",
   "id": "b2d0116f-3c75-4389-8c67-a8cdce44ca41",
   "metadata": {},
   "source": [
    "**Author**\n",
    "\n",
    "Tushar Srivastava"
   ]
  },
  {
   "cell_type": "code",
   "execution_count": null,
   "id": "ca24f99f-1702-4717-ad2e-5831fc66f673",
   "metadata": {},
   "outputs": [],
   "source": []
  }
 ],
 "metadata": {
  "kernelspec": {
   "display_name": "Python 3 (ipykernel)",
   "language": "python",
   "name": "python3"
  },
  "language_info": {
   "codemirror_mode": {
    "name": "ipython",
    "version": 3
   },
   "file_extension": ".py",
   "mimetype": "text/x-python",
   "name": "python",
   "nbconvert_exporter": "python",
   "pygments_lexer": "ipython3",
   "version": "3.12.4"
  }
 },
 "nbformat": 4,
 "nbformat_minor": 5
}
